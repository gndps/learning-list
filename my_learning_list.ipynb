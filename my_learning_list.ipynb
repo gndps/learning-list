{
 "cells": [
  {
   "cell_type": "markdown",
   "metadata": {},
   "source": [
    "\n",
    "# A list of things to learn"
   ]
  },
  {
   "cell_type": "markdown",
   "metadata": {},
   "source": [
    "Not in order and for personal use"
   ]
  },
  {
   "cell_type": "markdown",
   "metadata": {},
   "source": [
    "### Tensorboard\n",
    "- basic understanding ❎ \n",
    "- complete hands on\n",
    "\n",
    "\n",
    "### Speech recognition\n",
    "- a complete understanding and hands on on some voice recognition models\n",
    "- make urban sounds dataset work with a simple NN\n",
    "- make urban sounds dataset work with a simple CNN\n",
    "- make urban sounds dataset work with a simple transfer learning with google audioset features\n",
    "\n",
    "### Machine learning\n",
    "- Cross entropy (binary and categorical) - ❎\n",
    "- L1 and L2 weights regularization\n",
    "- Activation functions\n",
    "- Naive Bayes implementation\n",
    "- Fluent implementation of:\n",
    "    - NN ❎\n",
    "    - CNN ❎\n",
    "    - LSTM\n",
    "    - RNN\n",
    "    - GRU\n",
    "    - GAN\n",
    "    - Capsule\n",
    "- Understand different losses\n",
    "\n",
    "### Stats and probability"
   ]
  },
  {
   "cell_type": "code",
   "execution_count": null,
   "metadata": {
    "collapsed": true
   },
   "outputs": [],
   "source": []
  }
 ],
 "metadata": {
  "kernelspec": {
   "display_name": "Python 3",
   "language": "python",
   "name": "python3"
  },
  "language_info": {
   "codemirror_mode": {
    "name": "ipython",
    "version": 3
   },
   "file_extension": ".py",
   "mimetype": "text/x-python",
   "name": "python",
   "nbconvert_exporter": "python",
   "pygments_lexer": "ipython3",
   "version": "3.6.2"
  }
 },
 "nbformat": 4,
 "nbformat_minor": 2
}
